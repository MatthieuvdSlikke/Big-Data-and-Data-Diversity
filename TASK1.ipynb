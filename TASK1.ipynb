{
 "cells": [
  {
   "cell_type": "markdown",
   "metadata": {},
   "source": [
    "# Task 3\n",
    "# Q1"
   ]
  },
  {
   "cell_type": "code",
   "execution_count": null,
   "metadata": {},
   "outputs": [],
   "source": [
    "#the code below is directly inspired by the code given in the tutorial 10."
   ]
  },
  {
   "cell_type": "code",
   "execution_count": 30,
   "metadata": {
    "scrolled": true
   },
   "outputs": [
    {
     "name": "stdout",
     "output_type": "stream",
     "text": [
      "Sutherland - Kirrawee\n",
      "1\n",
      "northeast lat -34.0192077\n",
      "northeast lng 151.0682626\n",
      "southwest lat -34.0499872\n",
      "southwest lng 151.0602039\n",
      "Engadine\n",
      "0\n",
      "northeast lat -34.0360578\n",
      "northeast lng 151.0405906\n",
      "southwest lat -34.0795158\n",
      "southwest lng 150.9952717\n",
      "Loftus - Yarrawarrah\n",
      "1\n",
      "northeast lat -34.0353039\n",
      "northeast lng 151.0399135\n",
      "southwest lat -34.0619855\n",
      "southwest lng 151.0324114\n",
      "Woronora Heights\n",
      "0\n",
      "northeast lat -34.0253275\n",
      "northeast lng 151.0427488\n",
      "southwest lat -34.0428393\n",
      "southwest lng 151.0139269\n"
     ]
    }
   ],
   "source": [
    "import requests\n",
    "import json\n",
    "import csv \n",
    "import time\n",
    "from itertools import islice\n",
    "\n",
    "base_url = 'http://maps.googleapis.com/maps/api/geocode/json'\n",
    "\n",
    "with open('geoNeighbourhoods.csv', 'w') as csvfile:\n",
    "    \n",
    "    fieldnames = ['area_name', 'northeast_lat', 'northeast_lng','southwest_lat', 'southwest_lng']\n",
    "    writer = csv.DictWriter(csvfile, fieldnames=fieldnames)\n",
    "    writer.writeheader()\n",
    "   \n",
    "    with open('Neighbourhoods.csv', newline='') as File:  \n",
    "        \n",
    "        reader = csv.reader(File)\n",
    "        next(reader, None)  \n",
    "        \n",
    "        for row in reader:   \n",
    "                count=0\n",
    "                string = row[1]\n",
    "                print(string)\n",
    "                count = string.count(' - ')\n",
    "                print(count)\n",
    "                maxNhood_Nlat=0\n",
    "                maxNhood_Nlng=0\n",
    "                maxNhood_Slat=0\n",
    "                maxNhood_Slng=0\n",
    "\n",
    "                if count==0: \n",
    "                    \n",
    "                    my_params= {'address':\"%s, Australia\" %(row[1] ),'language':'en'}\n",
    "                    response = requests.get(base_url, params = my_params)\n",
    "                    results      = response.json()['results']\n",
    "                    time.sleep(2)\n",
    "                    if results :\n",
    "                        maxNhood_Nlat=results[0]['geometry']['bounds']['northeast']['lat']\n",
    "                        maxNhood_Nlng=results[0]['geometry']['bounds']['northeast']['lng']\n",
    "                        maxNhood_Slat=results[0]['geometry']['bounds']['southwest']['lat']\n",
    "                        maxNhood_Slng=results[0]['geometry']['bounds']['southwest']['lng']\n",
    "\n",
    "                else:\n",
    "                   \n",
    "                    mylist = string.split(\" - \")\n",
    "                    for word in mylist:\n",
    "\n",
    "                        my_params= {'address':\"%s, Australia\" %(word),'language':'en'}\n",
    "                        response = requests.get(base_url, params = my_params)\n",
    "                        results      = response.json()['results']\n",
    "                        time.sleep(2)\n",
    "                        if results :\n",
    "                            nNhood_Nlat=results[0]['geometry']['bounds']['northeast']['lat']\n",
    "                            nNhood_Nlng=results[0]['geometry']['bounds']['northeast']['lng']\n",
    "                            nNhood_Slat=results[0]['geometry']['bounds']['southwest']['lat']\n",
    "                            nNhood_Slng=results[0]['geometry']['bounds']['southwest']['lng']\n",
    "                            if maxNhood_Nlat==0:\n",
    "                                maxNhood_Nlat=nNhood_Nlat\n",
    "                            else:\n",
    "                                if nNhood_Nlat<maxNhood_Nlat:\n",
    "                                    maxNhood_Nlat=nNhood_Nlat\n",
    "                            if maxNhood_Nlng==0:\n",
    "                                maxNhood_Nlng=nNhood_Nlng\n",
    "                            else:\n",
    "                                if nNhood_Nlng<maxNhood_Nlng:\n",
    "                                    maxNhood_Nlng=nNhood_Nlng\n",
    "                            if maxNhood_Slat==0:\n",
    "                                maxNhood_Slat=nNhood_Slat\n",
    "                            else:\n",
    "                                if nNhood_Slat>maxNhood_Slat:\n",
    "                                    maxNhood_Slat=nNhood_Slat\n",
    "                            if maxNhood_Slng==0:\n",
    "                                maxNhood_Slng=nNhood_Slng\n",
    "                            else:\n",
    "                                if nNhood_Slng>maxNhood_Slng:\n",
    "                                    maxNhood_Slng=nNhood_Slng\n",
    "\n",
    "            #the max_values are used to calculate the furthest boundaries. This way we can find the points within these boundaries\n",
    "\n",
    "                print(\"northeast lat\", maxNhood_Nlat)\n",
    "                print(\"northeast lng\", maxNhood_Nlng)\n",
    "                print(\"southwest lat\", maxNhood_Slat)\n",
    "                print(\"southwest lng\", maxNhood_Slng)\n",
    "\n",
    "                writer.writerow({'area_name':row[1], 'northeast_lat':maxNhood_Nlat, 'northeast_lng':maxNhood_Nlng,'southwest_lat':maxNhood_Slat, 'southwest_lng':maxNhood_Slng})"
   ]
  },
  {
   "cell_type": "code",
   "execution_count": null,
   "metadata": {},
   "outputs": [],
   "source": [
    "#We than processed to clean the data by changing thecode accordingly. \n",
    "#Go through the created csv file and check where there where 0 boundaries to recalculate them\n",
    "#the problem we mostly we encountered is that the request json wouldn't be fast enough so we had to change the sleep.time function accordingly too\n",
    "#once we cleaned the data, we use it to do the spatial join by checking if the point would lie between the boundaries "
   ]
  }
 ],
 "metadata": {
  "kernelspec": {
   "display_name": "Python 3",
   "language": "python",
   "name": "python3"
  },
  "language_info": {
   "codemirror_mode": {
    "name": "ipython",
    "version": 3
   },
   "file_extension": ".py",
   "mimetype": "text/x-python",
   "name": "python",
   "nbconvert_exporter": "python",
   "pygments_lexer": "ipython3",
   "version": "3.6.4"
  }
 },
 "nbformat": 4,
 "nbformat_minor": 2
}
